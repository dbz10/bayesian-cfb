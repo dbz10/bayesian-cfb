{
 "cells": [
  {
   "cell_type": "code",
   "execution_count": 1,
   "metadata": {},
   "outputs": [],
   "source": [
    "from selenium import webdriver\n",
    "from bs4 import BeautifulSoup\n",
    "import time\n",
    "import csv\n",
    "import re"
   ]
  },
  {
   "cell_type": "code",
   "execution_count": 2,
   "metadata": {},
   "outputs": [],
   "source": [
    "URL = \"https://www.espn.com/college-football/scoreboard/_/group/80/year/2019/seasontype/2/week/1\""
   ]
  },
  {
   "cell_type": "code",
   "execution_count": 3,
   "metadata": {},
   "outputs": [],
   "source": [
    "def scrape_and_write_week_of_year(driver = None, writer = None, week = None, year = None):\n",
    "    URL = f\"https://www.espn.com/college-football/scoreboard/_/group/80/year/{year}/seasontype/2/week/{week}\"\n",
    "    driver.get(URL)\n",
    "    driver.execute_script(\"window.scrollTo(0, document.body.scrollHeight);\")\n",
    "    soup = BeautifulSoup(driver.page_source,'html')\n",
    "    \n",
    "    events = soup.find('div', attrs = {'id': 'events'})\n",
    "    \n",
    "    for scoreboard in events.findAll('article',\n",
    "                                    attrs = {'class' : re.compile(\"^scoreboard football\")}):\n",
    "        try:\n",
    "            home_id = scoreboard['data-homeid']\n",
    "            away_id = scoreboard['data-awayid']\n",
    "\n",
    "            away_team = (scoreboard\n",
    "                             .find('tr', attrs = {\"class\": \"away\"})\n",
    "                             .find('span', attrs = {\"class\" : \"sb-team-short\"})\n",
    "                             .text)\n",
    "\n",
    "            away_score = (scoreboard\n",
    "                             .find('tr', attrs = {\"class\": \"away\"})\n",
    "                             .find('td', attrs = {\"class\" : \"total\"})\n",
    "                             .span.text)\n",
    "\n",
    "            home_team = (scoreboard\n",
    "                             .find('tr', attrs = {\"class\": \"home\"})\n",
    "                             .find('span', attrs = {\"class\" : \"sb-team-short\"})\n",
    "                             .text)\n",
    "\n",
    "            home_score = (scoreboard\n",
    "                             .find('tr', attrs = {\"class\": \"home\"})\n",
    "                             .find('td', attrs = {\"class\" : \"total\"})\n",
    "                             .span.text)\n",
    "\n",
    "            writer.writerow([year,week,home_team, away_team, home_id, away_id, home_score, away_score])\n",
    "        except:\n",
    "            pass"
   ]
  },
  {
   "cell_type": "code",
   "execution_count": 4,
   "metadata": {},
   "outputs": [],
   "source": [
    "with open(\"../data/games.csv\", \"w\") as csvfile:\n",
    "    writer = csv.writer(csvfile)\n",
    "    writer.writerow(['Year','Week', 'HomeTeam', 'AwayTeam', 'HomeId', 'AwayId', 'HomeScore', 'AwayScore'])"
   ]
  },
  {
   "cell_type": "code",
   "execution_count": 5,
   "metadata": {},
   "outputs": [],
   "source": [
    "# scrape the data from 2018\n",
    "with webdriver.Firefox() as driver:\n",
    "    with open(\"../data/games.csv\", \"a\") as csvfile:\n",
    "        writer = csv.writer(csvfile)\n",
    "    \n",
    "        for week in range(1,15):\n",
    "            scrape_and_write_week_of_year(driver = driver, writer = writer, week = week, year = 2018)"
   ]
  },
  {
   "cell_type": "code",
   "execution_count": 6,
   "metadata": {},
   "outputs": [],
   "source": [
    "# get the first week of 2019\n",
    "with webdriver.Firefox() as driver:\n",
    "    with open(\"../data/games.csv\", \"a\") as csvfile:\n",
    "        writer = csv.writer(csvfile)\n",
    "\n",
    "        scrape_and_write_week_of_year(driver = driver, writer = writer, week = 1, year = 2019)"
   ]
  },
  {
   "cell_type": "code",
   "execution_count": null,
   "metadata": {},
   "outputs": [],
   "source": []
  }
 ],
 "metadata": {
  "kernelspec": {
   "display_name": "Python 3",
   "language": "python",
   "name": "python3"
  },
  "language_info": {
   "codemirror_mode": {
    "name": "ipython",
    "version": 3
   },
   "file_extension": ".py",
   "mimetype": "text/x-python",
   "name": "python",
   "nbconvert_exporter": "python",
   "pygments_lexer": "ipython3",
   "version": "3.7.3"
  }
 },
 "nbformat": 4,
 "nbformat_minor": 4
}
