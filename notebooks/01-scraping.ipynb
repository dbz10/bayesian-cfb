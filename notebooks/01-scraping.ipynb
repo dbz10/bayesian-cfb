{
 "cells": [
  {
   "cell_type": "code",
   "execution_count": 1,
   "metadata": {},
   "outputs": [],
   "source": [
    "from selenium import webdriver\n",
    "from bs4 import BeautifulSoup\n",
    "import time\n",
    "import csv\n",
    "import re"
   ]
  },
  {
   "cell_type": "code",
   "execution_count": 2,
   "metadata": {},
   "outputs": [],
   "source": [
    "URL = \"https://www.espn.com/college-football/scoreboard/_/group/80/year/2019/seasontype/2/week/1\""
   ]
  },
  {
   "cell_type": "code",
   "execution_count": 3,
   "metadata": {},
   "outputs": [],
   "source": [
    "with webdriver.Firefox() as driver:\n",
    "    driver.get(URL)\n",
    "#     driver.execute_script(\"window.scrollTo(0, document.body.scrollHeight);\")\n",
    "    soup = BeautifulSoup(driver.page_source,'html')"
   ]
  },
  {
   "cell_type": "code",
   "execution_count": 4,
   "metadata": {},
   "outputs": [],
   "source": [
    "events = soup.find('div',\n",
    "                  attrs = {'id': 'events'})"
   ]
  },
  {
   "cell_type": "code",
   "execution_count": 5,
   "metadata": {},
   "outputs": [],
   "source": [
    "with open(\"../data/games.csv\", \"w\") as csvfile:\n",
    "    writer = csv.writer(csvfile)\n",
    "    writer.writerow(['Week', 'HomeTeam', 'AwayTeam', 'HomeId', 'AwayId', 'HomeScore', 'AwayScore'])"
   ]
  },
  {
   "cell_type": "code",
   "execution_count": 6,
   "metadata": {},
   "outputs": [],
   "source": [
    "with open(\"../data/games.csv\", \"a\") as csvfile:\n",
    "    writer = csv.writer(csvfile)\n",
    "    \n",
    "    for scoreboard in events.findAll('article',\n",
    "                                    attrs = {'class' : re.compile(\"^scoreboard football\")}):\n",
    "        home_id = scoreboard['data-homeid']\n",
    "        away_id = scoreboard['data-awayid']\n",
    "\n",
    "        away_team = (scoreboard\n",
    "                         .find('tr', attrs = {\"class\": \"away\"})\n",
    "                         .find('span', attrs = {\"class\" : \"sb-team-short\"})\n",
    "                         .text)\n",
    "\n",
    "        away_score = (scoreboard\n",
    "                         .find('tr', attrs = {\"class\": \"away\"})\n",
    "                         .find('td', attrs = {\"class\" : \"total\"})\n",
    "                         .span.text)\n",
    "\n",
    "        home_team = (scoreboard\n",
    "                         .find('tr', attrs = {\"class\": \"home\"})\n",
    "                         .find('span', attrs = {\"class\" : \"sb-team-short\"})\n",
    "                         .text)\n",
    "\n",
    "        home_score = (scoreboard\n",
    "                         .find('tr', attrs = {\"class\": \"home\"})\n",
    "                         .find('td', attrs = {\"class\" : \"total\"})\n",
    "                         .span.text)\n",
    "        \n",
    "        writer.writerow([1,home_team, away_team, home_id, away_id, home_score, away_score])\n",
    "    "
   ]
  },
  {
   "cell_type": "code",
   "execution_count": null,
   "metadata": {},
   "outputs": [],
   "source": []
  }
 ],
 "metadata": {
  "kernelspec": {
   "display_name": "Python 3",
   "language": "python",
   "name": "python3"
  },
  "language_info": {
   "codemirror_mode": {
    "name": "ipython",
    "version": 3
   },
   "file_extension": ".py",
   "mimetype": "text/x-python",
   "name": "python",
   "nbconvert_exporter": "python",
   "pygments_lexer": "ipython3",
   "version": "3.7.3"
  }
 },
 "nbformat": 4,
 "nbformat_minor": 4
}
