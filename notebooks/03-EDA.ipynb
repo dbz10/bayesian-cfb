{
 "cells": [
  {
   "cell_type": "code",
   "execution_count": 35,
   "metadata": {},
   "outputs": [],
   "source": [
    "import pandas as pd\n",
    "import numpy as np\n",
    "import matplotlib.pyplot as plt\n",
    "%matplotlib inline"
   ]
  },
  {
   "cell_type": "code",
   "execution_count": 2,
   "metadata": {},
   "outputs": [],
   "source": [
    "df = pd.read_csv(\"../data/games.csv\")"
   ]
  },
  {
   "cell_type": "code",
   "execution_count": 5,
   "metadata": {},
   "outputs": [],
   "source": [
    "df['home_field_win'] = (df['HomeScore'] > df['AwayScore']).apply(lambda x: int(x))"
   ]
  },
  {
   "cell_type": "code",
   "execution_count": 6,
   "metadata": {},
   "outputs": [
    {
     "data": {
      "text/html": [
       "<div>\n",
       "<style scoped>\n",
       "    .dataframe tbody tr th:only-of-type {\n",
       "        vertical-align: middle;\n",
       "    }\n",
       "\n",
       "    .dataframe tbody tr th {\n",
       "        vertical-align: top;\n",
       "    }\n",
       "\n",
       "    .dataframe thead th {\n",
       "        text-align: right;\n",
       "    }\n",
       "</style>\n",
       "<table border=\"1\" class=\"dataframe\">\n",
       "  <thead>\n",
       "    <tr style=\"text-align: right;\">\n",
       "      <th></th>\n",
       "      <th>Year</th>\n",
       "      <th>Week</th>\n",
       "      <th>HomeTeam</th>\n",
       "      <th>AwayTeam</th>\n",
       "      <th>HomeId</th>\n",
       "      <th>AwayId</th>\n",
       "      <th>HomeScore</th>\n",
       "      <th>AwayScore</th>\n",
       "      <th>home_field_win</th>\n",
       "    </tr>\n",
       "  </thead>\n",
       "  <tbody>\n",
       "    <tr>\n",
       "      <td>0</td>\n",
       "      <td>2018</td>\n",
       "      <td>1</td>\n",
       "      <td>UMass</td>\n",
       "      <td>Duquesne</td>\n",
       "      <td>113</td>\n",
       "      <td>2184</td>\n",
       "      <td>63</td>\n",
       "      <td>15</td>\n",
       "      <td>1</td>\n",
       "    </tr>\n",
       "    <tr>\n",
       "      <td>1</td>\n",
       "      <td>2018</td>\n",
       "      <td>1</td>\n",
       "      <td>Rice</td>\n",
       "      <td>Prairie View</td>\n",
       "      <td>242</td>\n",
       "      <td>2504</td>\n",
       "      <td>31</td>\n",
       "      <td>28</td>\n",
       "      <td>1</td>\n",
       "    </tr>\n",
       "    <tr>\n",
       "      <td>2</td>\n",
       "      <td>2018</td>\n",
       "      <td>1</td>\n",
       "      <td>Colorado State</td>\n",
       "      <td>Hawai'i</td>\n",
       "      <td>36</td>\n",
       "      <td>62</td>\n",
       "      <td>34</td>\n",
       "      <td>43</td>\n",
       "      <td>0</td>\n",
       "    </tr>\n",
       "    <tr>\n",
       "      <td>3</td>\n",
       "      <td>2018</td>\n",
       "      <td>1</td>\n",
       "      <td>New Mexico State</td>\n",
       "      <td>Wyoming</td>\n",
       "      <td>166</td>\n",
       "      <td>2751</td>\n",
       "      <td>7</td>\n",
       "      <td>29</td>\n",
       "      <td>0</td>\n",
       "    </tr>\n",
       "    <tr>\n",
       "      <td>4</td>\n",
       "      <td>2018</td>\n",
       "      <td>1</td>\n",
       "      <td>UConn</td>\n",
       "      <td>UCF</td>\n",
       "      <td>41</td>\n",
       "      <td>2116</td>\n",
       "      <td>17</td>\n",
       "      <td>56</td>\n",
       "      <td>0</td>\n",
       "    </tr>\n",
       "  </tbody>\n",
       "</table>\n",
       "</div>"
      ],
      "text/plain": [
       "   Year  Week          HomeTeam      AwayTeam  HomeId  AwayId  HomeScore  \\\n",
       "0  2018     1             UMass      Duquesne     113    2184         63   \n",
       "1  2018     1              Rice  Prairie View     242    2504         31   \n",
       "2  2018     1    Colorado State       Hawai'i      36      62         34   \n",
       "3  2018     1  New Mexico State       Wyoming     166    2751          7   \n",
       "4  2018     1             UConn           UCF      41    2116         17   \n",
       "\n",
       "   AwayScore  home_field_win  \n",
       "0         15               1  \n",
       "1         28               1  \n",
       "2         43               0  \n",
       "3         29               0  \n",
       "4         56               0  "
      ]
     },
     "execution_count": 6,
     "metadata": {},
     "output_type": "execute_result"
    }
   ],
   "source": [
    "df.head(5)"
   ]
  },
  {
   "cell_type": "code",
   "execution_count": 16,
   "metadata": {},
   "outputs": [
    {
     "data": {
      "image/png": "[encoded data removed]",
      "text/plain": [
       "<Figure size 432x288 with 1 Axes>"
      ]
     },
     "metadata": {
      "needs_background": "light"
     },
     "output_type": "display_data"
    }
   ],
   "source": [
    "fig, ax = plt.subplots()\n",
    "\n",
    "(df\n",
    "    .groupby('home_field_win')\n",
    "    .size()).plot.bar(ax = ax)\n",
    "\n",
    "ax.set_xticklabels(['Away','Home'], rotation = 0, fontsize = 12);\n",
    "ax.set_xlabel(\"Win\")\n",
    "ax.set_ylabel(\"Count\")\n",
    "\n",
    "plt.show()"
   ]
  },
  {
   "cell_type": "markdown",
   "metadata": {},
   "source": [
    "Wow, it seems home field advantage is real!\n",
    "Not really sure how much there is to look at here tbh, I didn't scrape that much data."
   ]
  },
  {
   "cell_type": "code",
   "execution_count": 24,
   "metadata": {},
   "outputs": [
    {
     "name": "stdout",
     "output_type": "stream",
     "text": [
      "Maximum score of all 2018 games was 79.\n",
      "Minimum score of all 2018 games was 0.\n",
      "Mean score of all 2018 games was 28.694833153928958.\n",
      "Median score of all 2018 games was 27.0.\n"
     ]
    }
   ],
   "source": [
    "all_scores = pd.concat([df['HomeScore'],df['AwayScore']])\n",
    "print(f\"Maximum score of all 2018 games was {all_scores.max()}.\")\n",
    "print(f\"Minimum score of all 2018 games was {all_scores.min()}.\")\n",
    "print(f\"Mean score of all 2018 games was {all_scores.mean()}.\")\n",
    "print(f\"Median score of all 2018 games was {all_scores.median()}.\")"
   ]
  },
  {
   "cell_type": "code",
   "execution_count": 33,
   "metadata": {},
   "outputs": [
    {
     "data": {
      "image/png": "[encoded data removed]",
      "text/plain": [
       "<Figure size 432x288 with 1 Axes>"
      ]
     },
     "metadata": {
      "needs_background": "light"
     },
     "output_type": "display_data"
    }
   ],
   "source": [
    "fig, ax = plt.subplots()\n",
    "\n",
    "ax.hist(all_scores)\n",
    "ax.set_xlabel(\"Score\")\n",
    "ax.set_ylabel(\"Frequency\")\n",
    "\n",
    "plt.show()"
   ]
  },
  {
   "cell_type": "code",
   "execution_count": 39,
   "metadata": {},
   "outputs": [
    {
     "data": {
      "image/png": "[encoded data removed]",
      "text/plain": [
       "<Figure size 432x288 with 1 Axes>"
      ]
     },
     "metadata": {
      "needs_background": "light"
     },
     "output_type": "display_data"
    }
   ],
   "source": [
    "fig, ax = plt.subplots()\n",
    "\n",
    "ax.hist(np.abs(df['HomeScore'] - df['AwayScore']))\n",
    "ax.set_xlabel(\"Score Differential\")\n",
    "ax.set_ylabel(\"Frequency\")\n",
    "\n",
    "plt.show()"
   ]
  },
  {
   "cell_type": "markdown",
   "metadata": {},
   "source": [
    "That's kind of funny, we see a huge number of games decided by either 1 field goal or 1 touchdown. That quantization becomes much more clear after a log transform."
   ]
  },
  {
   "cell_type": "code",
   "execution_count": 55,
   "metadata": {},
   "outputs": [
    {
     "data": {
      "image/png": "[encoded data removed]",
      "text/plain": [
       "<Figure size 432x288 with 1 Axes>"
      ]
     },
     "metadata": {
      "needs_background": "light"
     },
     "output_type": "display_data"
    }
   ],
   "source": [
    "fig, ax = plt.subplots()\n",
    "\n",
    "ax.hist(np.log(np.abs(df['HomeScore'] - df['AwayScore'])))\n",
    "ax.set_xlabel(\"Log Score Differential\")\n",
    "ax.set_ylabel(\"Frequency\")\n",
    "\n",
    "ax.axvline(np.log(3),color = 'k', linestyle = '--')\n",
    "\n",
    "ax.annotate('log(3)',\n",
    "           xy = (np.log(3)-0.5,170))\n",
    "\n",
    "ax.axvline(np.log(7),color = 'k', linestyle = '--')\n",
    "\n",
    "ax.annotate('log(7)',\n",
    "           xy = (np.log(7)-0.5,170))\n",
    "\n",
    "plt.show()"
   ]
  },
  {
   "cell_type": "code",
   "execution_count": null,
   "metadata": {},
   "outputs": [],
   "source": []
  }
 ],
 "metadata": {
  "kernelspec": {
   "display_name": "Python 3",
   "language": "python",
   "name": "python3"
  },
  "language_info": {
   "codemirror_mode": {
    "name": "ipython",
    "version": 3
   },
   "file_extension": ".py",
   "mimetype": "text/x-python",
   "name": "python",
   "nbconvert_exporter": "python",
   "pygments_lexer": "ipython3",
   "version": "3.7.3"
  }
 },
 "nbformat": 4,
 "nbformat_minor": 4
}
