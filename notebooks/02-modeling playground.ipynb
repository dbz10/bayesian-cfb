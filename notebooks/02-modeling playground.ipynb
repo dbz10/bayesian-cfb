{
 "cells": [
  {
   "cell_type": "code",
   "execution_count": 2,
   "metadata": {},
   "outputs": [],
   "source": [
    "import pandas as pd\n",
    "import pymc3 as pm\n",
    "import theano.tensor as tt"
   ]
  },
  {
   "cell_type": "markdown",
   "metadata": {},
   "source": [
    "# General Plan\n",
    "\n",
    "Outcomes of games will be modeled as a stochastic process depending on some latent (or not so latent) characteristics of each team. First, to keep things simple, suppose that each team can be summarized by two numbers: offensive and defensive strengths, OS and DS for short. Then, the number of points scored by any team against any other team is some function of the difference in their respective OS and DS. \n",
    "\n",
    "A reasonable function to model this might be something like\n",
    "\n",
    "$$ score(team~A|team~B) = \\theta_0 + \\frac{s_{max} - \\theta_0 }{1 + e^{-(\\alpha + OS(A) - DS(B))/\\sigma}} + \\hat\\epsilon$$\n",
    "\n",
    "where $\\theta_0$ is some intercept term, and $s_{max}$ is an approximate maximum score achieved when one team absolutely dominates the other. Empirically, $s_{max} \\sim 70-80$. The parameters $\\sigma$ measure the spread over which points accumulate and $\\alpha$ is some offset (for example, if teams are exactly matched, I don't expect a team to score zero points...). The machine learning part of this project is to learn OS and DS for each team as well as the parameters $\\theta_0, s_{max}, \\alpha$, and $\\sigma$, based on the outcomes of games. Is this a reasonable model? I don't know, maybe...\n",
    "\n",
    "Beyond being a fun project, this does have a concrete use case. After inferring team's OS and DS, we can perform simulations of the score differential and total points scored for any particular matchup. This might be useful for people trying to inform their betting strategies for betting on college football games."
   ]
  },
  {
   "cell_type": "code",
   "execution_count": null,
   "metadata": {},
   "outputs": [],
   "source": []
  }
 ],
 "metadata": {
  "kernelspec": {
   "display_name": "Python 3",
   "language": "python",
   "name": "python3"
  },
  "language_info": {
   "codemirror_mode": {
    "name": "ipython",
    "version": 3
   },
   "file_extension": ".py",
   "mimetype": "text/x-python",
   "name": "python",
   "nbconvert_exporter": "python",
   "pygments_lexer": "ipython3",
   "version": "3.7.3"
  }
 },
 "nbformat": 4,
 "nbformat_minor": 4
}
