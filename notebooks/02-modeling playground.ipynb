{
 "cells": [
  {
   "cell_type": "code",
   "execution_count": 1,
   "metadata": {},
   "outputs": [],
   "source": [
    "import pandas as pd\n",
    "import pymc3 as pm\n",
    "import theano.tensor as tt\n",
    "import matplotlib.pyplot as plt\n",
    "%matplotlib inline"
   ]
  },
  {
   "cell_type": "markdown",
   "metadata": {},
   "source": [
    "# General Plan\n",
    "\n",
    "Outcomes of games will be modeled as a stochastic process depending on some latent (or not so latent) characteristics of each team. First, to keep things simple, suppose that each team can be summarized by two numbers: offensive and defensive strengths, OS and DS for short. Then, the number of points scored by any team against any other team is some function of the difference in their respective OS and DS. \n",
    "\n",
    "A reasonable function to model this might be something like\n",
    "\n",
    "$$ score(team~A|team~B) = \\theta_0 + \\frac{s_{max} - \\theta_0 }{1 + e^{-(\\alpha + OS(A) - DS(B))/\\sigma}} + \\hat\\epsilon$$\n",
    "\n",
    "where $\\theta_0$ is some intercept term, and $s_{max}$ is an approximate maximum score achieved when one team absolutely dominates the other. Empirically, $s_{max} \\sim 70-80$. The parameters $\\sigma$ measure the spread over which points accumulate and $\\alpha$ is some offset (for example, if teams are exactly matched, I don't expect a team to score zero points...). The machine learning part of this project is to learn OS and DS for each team as well as the parameters $\\theta_0, s_{max}, \\alpha$, and $\\sigma$, based on the outcomes of games. Is this a reasonable model? I don't know, maybe...\n",
    "\n",
    "Beyond being a fun project, this does have a concrete use case. After inferring team's OS and DS, we can perform simulations of the score differential and total points scored for any particular matchup. This might be useful for people trying to inform their betting strategies for betting on college football games."
   ]
  },
  {
   "cell_type": "code",
   "execution_count": 2,
   "metadata": {},
   "outputs": [
    {
     "data": {
      "text/html": [
       "<div>\n",
       "<style scoped>\n",
       "    .dataframe tbody tr th:only-of-type {\n",
       "        vertical-align: middle;\n",
       "    }\n",
       "\n",
       "    .dataframe tbody tr th {\n",
       "        vertical-align: top;\n",
       "    }\n",
       "\n",
       "    .dataframe thead th {\n",
       "        text-align: right;\n",
       "    }\n",
       "</style>\n",
       "<table border=\"1\" class=\"dataframe\">\n",
       "  <thead>\n",
       "    <tr style=\"text-align: right;\">\n",
       "      <th></th>\n",
       "      <th>Year</th>\n",
       "      <th>Week</th>\n",
       "      <th>HomeTeam</th>\n",
       "      <th>AwayTeam</th>\n",
       "      <th>HomeId</th>\n",
       "      <th>AwayId</th>\n",
       "      <th>HomeScore</th>\n",
       "      <th>AwayScore</th>\n",
       "    </tr>\n",
       "  </thead>\n",
       "  <tbody>\n",
       "    <tr>\n",
       "      <td>0</td>\n",
       "      <td>2018</td>\n",
       "      <td>1</td>\n",
       "      <td>UMass</td>\n",
       "      <td>Duquesne</td>\n",
       "      <td>113</td>\n",
       "      <td>2184</td>\n",
       "      <td>63</td>\n",
       "      <td>15</td>\n",
       "    </tr>\n",
       "    <tr>\n",
       "      <td>1</td>\n",
       "      <td>2018</td>\n",
       "      <td>1</td>\n",
       "      <td>Rice</td>\n",
       "      <td>Prairie View</td>\n",
       "      <td>242</td>\n",
       "      <td>2504</td>\n",
       "      <td>31</td>\n",
       "      <td>28</td>\n",
       "    </tr>\n",
       "    <tr>\n",
       "      <td>2</td>\n",
       "      <td>2018</td>\n",
       "      <td>1</td>\n",
       "      <td>Colorado State</td>\n",
       "      <td>Hawai'i</td>\n",
       "      <td>36</td>\n",
       "      <td>62</td>\n",
       "      <td>34</td>\n",
       "      <td>43</td>\n",
       "    </tr>\n",
       "    <tr>\n",
       "      <td>3</td>\n",
       "      <td>2018</td>\n",
       "      <td>1</td>\n",
       "      <td>New Mexico State</td>\n",
       "      <td>Wyoming</td>\n",
       "      <td>166</td>\n",
       "      <td>2751</td>\n",
       "      <td>7</td>\n",
       "      <td>29</td>\n",
       "    </tr>\n",
       "    <tr>\n",
       "      <td>4</td>\n",
       "      <td>2018</td>\n",
       "      <td>1</td>\n",
       "      <td>UConn</td>\n",
       "      <td>UCF</td>\n",
       "      <td>41</td>\n",
       "      <td>2116</td>\n",
       "      <td>17</td>\n",
       "      <td>56</td>\n",
       "    </tr>\n",
       "  </tbody>\n",
       "</table>\n",
       "</div>"
      ],
      "text/plain": [
       "   Year  Week          HomeTeam      AwayTeam  HomeId  AwayId  HomeScore  \\\n",
       "0  2018     1             UMass      Duquesne     113    2184         63   \n",
       "1  2018     1              Rice  Prairie View     242    2504         31   \n",
       "2  2018     1    Colorado State       Hawai'i      36      62         34   \n",
       "3  2018     1  New Mexico State       Wyoming     166    2751          7   \n",
       "4  2018     1             UConn           UCF      41    2116         17   \n",
       "\n",
       "   AwayScore  \n",
       "0         15  \n",
       "1         28  \n",
       "2         43  \n",
       "3         29  \n",
       "4         56  "
      ]
     },
     "execution_count": 2,
     "metadata": {},
     "output_type": "execute_result"
    }
   ],
   "source": [
    "df = pd.read_csv(\"../data/games.csv\")\n",
    "df.head(5)"
   ]
  },
  {
   "cell_type": "code",
   "execution_count": 3,
   "metadata": {},
   "outputs": [],
   "source": [
    "df_2018 = df.query('Year == 2018').copy()"
   ]
  },
  {
   "cell_type": "code",
   "execution_count": 4,
   "metadata": {},
   "outputs": [
    {
     "name": "stdout",
     "output_type": "stream",
     "text": [
      "219\n"
     ]
    }
   ],
   "source": [
    "all_teams_2018 = pd.concat([df_2018['HomeTeam'],df_2018['AwayTeam']]).unique()\n",
    "print(len(all_teams_2018))"
   ]
  },
  {
   "cell_type": "code",
   "execution_count": 5,
   "metadata": {},
   "outputs": [
    {
     "name": "stdout",
     "output_type": "stream",
     "text": [
      "225\n"
     ]
    }
   ],
   "source": [
    "all_teams = pd.concat([df['HomeTeam'],df['AwayTeam']]).unique()\n",
    "print(len(all_teams))"
   ]
  },
  {
   "cell_type": "code",
   "execution_count": 6,
   "metadata": {},
   "outputs": [],
   "source": [
    "# what are we going to do about teams I haven't seen before?"
   ]
  },
  {
   "cell_type": "code",
   "execution_count": 7,
   "metadata": {},
   "outputs": [
    {
     "name": "stdout",
     "output_type": "stream",
     "text": [
      "{'USC': 0, 'UCLA': 1, 'Stanford': 2, 'Washington': 3, 'California': 4, 'Arizona': 5, 'Arizona State': 6, 'Washington State': 7, 'Utah': 8, 'Oregon State': 9, 'Oregon': 10, 'Colorado': 11}\n"
     ]
    }
   ],
   "source": [
    "# let's restrict the list of teams at first to keep things easier\n",
    "\n",
    "pac12teams = [\"USC\", \"UCLA\", \"Stanford\", \"Washington\", \"California\", \"Arizona\", \"Arizona State\",\n",
    "             \"Washington State\", \"Utah\", \"Oregon State\", \"Oregon\", \"Colorado\"]\n",
    "\n",
    "ref = {team: i for i,team in enumerate(pac12teams)}\n",
    "\n",
    "print(ref)"
   ]
  },
  {
   "cell_type": "code",
   "execution_count": 8,
   "metadata": {},
   "outputs": [
    {
     "name": "stdout",
     "output_type": "stream",
     "text": [
      "55\n",
      "844\n"
     ]
    },
    {
     "data": {
      "text/html": [
       "<div>\n",
       "<style scoped>\n",
       "    .dataframe tbody tr th:only-of-type {\n",
       "        vertical-align: middle;\n",
       "    }\n",
       "\n",
       "    .dataframe tbody tr th {\n",
       "        vertical-align: top;\n",
       "    }\n",
       "\n",
       "    .dataframe thead th {\n",
       "        text-align: right;\n",
       "    }\n",
       "</style>\n",
       "<table border=\"1\" class=\"dataframe\">\n",
       "  <thead>\n",
       "    <tr style=\"text-align: right;\">\n",
       "      <th></th>\n",
       "      <th>Year</th>\n",
       "      <th>Week</th>\n",
       "      <th>HomeTeam</th>\n",
       "      <th>AwayTeam</th>\n",
       "      <th>HomeId</th>\n",
       "      <th>AwayId</th>\n",
       "      <th>HomeScore</th>\n",
       "      <th>AwayScore</th>\n",
       "    </tr>\n",
       "  </thead>\n",
       "  <tbody>\n",
       "    <tr>\n",
       "      <td>98</td>\n",
       "      <td>2018</td>\n",
       "      <td>2</td>\n",
       "      <td>Stanford</td>\n",
       "      <td>USC</td>\n",
       "      <td>2</td>\n",
       "      <td>0</td>\n",
       "      <td>17</td>\n",
       "      <td>3</td>\n",
       "    </tr>\n",
       "    <tr>\n",
       "      <td>180</td>\n",
       "      <td>2018</td>\n",
       "      <td>3</td>\n",
       "      <td>Utah</td>\n",
       "      <td>Washington</td>\n",
       "      <td>8</td>\n",
       "      <td>3</td>\n",
       "      <td>7</td>\n",
       "      <td>21</td>\n",
       "    </tr>\n",
       "    <tr>\n",
       "      <td>235</td>\n",
       "      <td>2018</td>\n",
       "      <td>4</td>\n",
       "      <td>USC</td>\n",
       "      <td>Washington State</td>\n",
       "      <td>0</td>\n",
       "      <td>7</td>\n",
       "      <td>39</td>\n",
       "      <td>36</td>\n",
       "    </tr>\n",
       "    <tr>\n",
       "      <td>242</td>\n",
       "      <td>2018</td>\n",
       "      <td>4</td>\n",
       "      <td>Oregon</td>\n",
       "      <td>Stanford</td>\n",
       "      <td>10</td>\n",
       "      <td>2</td>\n",
       "      <td>31</td>\n",
       "      <td>38</td>\n",
       "    </tr>\n",
       "    <tr>\n",
       "      <td>245</td>\n",
       "      <td>2018</td>\n",
       "      <td>4</td>\n",
       "      <td>Washington</td>\n",
       "      <td>Arizona State</td>\n",
       "      <td>3</td>\n",
       "      <td>6</td>\n",
       "      <td>27</td>\n",
       "      <td>20</td>\n",
       "    </tr>\n",
       "    <tr>\n",
       "      <td>276</td>\n",
       "      <td>2018</td>\n",
       "      <td>4</td>\n",
       "      <td>Oregon State</td>\n",
       "      <td>Arizona</td>\n",
       "      <td>9</td>\n",
       "      <td>5</td>\n",
       "      <td>14</td>\n",
       "      <td>35</td>\n",
       "    </tr>\n",
       "    <tr>\n",
       "      <td>296</td>\n",
       "      <td>2018</td>\n",
       "      <td>5</td>\n",
       "      <td>Colorado</td>\n",
       "      <td>UCLA</td>\n",
       "      <td>11</td>\n",
       "      <td>1</td>\n",
       "      <td>38</td>\n",
       "      <td>16</td>\n",
       "    </tr>\n",
       "    <tr>\n",
       "      <td>311</td>\n",
       "      <td>2018</td>\n",
       "      <td>5</td>\n",
       "      <td>California</td>\n",
       "      <td>Oregon</td>\n",
       "      <td>4</td>\n",
       "      <td>10</td>\n",
       "      <td>24</td>\n",
       "      <td>42</td>\n",
       "    </tr>\n",
       "    <tr>\n",
       "      <td>335</td>\n",
       "      <td>2018</td>\n",
       "      <td>5</td>\n",
       "      <td>Washington State</td>\n",
       "      <td>Utah</td>\n",
       "      <td>7</td>\n",
       "      <td>8</td>\n",
       "      <td>28</td>\n",
       "      <td>24</td>\n",
       "    </tr>\n",
       "    <tr>\n",
       "      <td>349</td>\n",
       "      <td>2018</td>\n",
       "      <td>5</td>\n",
       "      <td>Arizona State</td>\n",
       "      <td>Oregon State</td>\n",
       "      <td>6</td>\n",
       "      <td>9</td>\n",
       "      <td>52</td>\n",
       "      <td>24</td>\n",
       "    </tr>\n",
       "    <tr>\n",
       "      <td>350</td>\n",
       "      <td>2018</td>\n",
       "      <td>5</td>\n",
       "      <td>Arizona</td>\n",
       "      <td>USC</td>\n",
       "      <td>5</td>\n",
       "      <td>0</td>\n",
       "      <td>20</td>\n",
       "      <td>24</td>\n",
       "    </tr>\n",
       "    <tr>\n",
       "      <td>366</td>\n",
       "      <td>2018</td>\n",
       "      <td>6</td>\n",
       "      <td>UCLA</td>\n",
       "      <td>Washington</td>\n",
       "      <td>1</td>\n",
       "      <td>3</td>\n",
       "      <td>24</td>\n",
       "      <td>31</td>\n",
       "    </tr>\n",
       "    <tr>\n",
       "      <td>369</td>\n",
       "      <td>2018</td>\n",
       "      <td>6</td>\n",
       "      <td>Stanford</td>\n",
       "      <td>Utah</td>\n",
       "      <td>2</td>\n",
       "      <td>8</td>\n",
       "      <td>21</td>\n",
       "      <td>40</td>\n",
       "    </tr>\n",
       "    <tr>\n",
       "      <td>374</td>\n",
       "      <td>2018</td>\n",
       "      <td>6</td>\n",
       "      <td>Colorado</td>\n",
       "      <td>Arizona State</td>\n",
       "      <td>11</td>\n",
       "      <td>6</td>\n",
       "      <td>28</td>\n",
       "      <td>21</td>\n",
       "    </tr>\n",
       "    <tr>\n",
       "      <td>403</td>\n",
       "      <td>2018</td>\n",
       "      <td>6</td>\n",
       "      <td>Oregon State</td>\n",
       "      <td>Washington State</td>\n",
       "      <td>9</td>\n",
       "      <td>7</td>\n",
       "      <td>37</td>\n",
       "      <td>56</td>\n",
       "    </tr>\n",
       "    <tr>\n",
       "      <td>404</td>\n",
       "      <td>2018</td>\n",
       "      <td>6</td>\n",
       "      <td>Arizona</td>\n",
       "      <td>California</td>\n",
       "      <td>5</td>\n",
       "      <td>4</td>\n",
       "      <td>24</td>\n",
       "      <td>17</td>\n",
       "    </tr>\n",
       "    <tr>\n",
       "      <td>413</td>\n",
       "      <td>2018</td>\n",
       "      <td>7</td>\n",
       "      <td>Utah</td>\n",
       "      <td>Arizona</td>\n",
       "      <td>8</td>\n",
       "      <td>5</td>\n",
       "      <td>42</td>\n",
       "      <td>10</td>\n",
       "    </tr>\n",
       "    <tr>\n",
       "      <td>419</td>\n",
       "      <td>2018</td>\n",
       "      <td>7</td>\n",
       "      <td>Oregon</td>\n",
       "      <td>Washington</td>\n",
       "      <td>10</td>\n",
       "      <td>3</td>\n",
       "      <td>30</td>\n",
       "      <td>27</td>\n",
       "    </tr>\n",
       "    <tr>\n",
       "      <td>426</td>\n",
       "      <td>2018</td>\n",
       "      <td>7</td>\n",
       "      <td>USC</td>\n",
       "      <td>Colorado</td>\n",
       "      <td>0</td>\n",
       "      <td>11</td>\n",
       "      <td>31</td>\n",
       "      <td>20</td>\n",
       "    </tr>\n",
       "    <tr>\n",
       "      <td>457</td>\n",
       "      <td>2018</td>\n",
       "      <td>7</td>\n",
       "      <td>California</td>\n",
       "      <td>UCLA</td>\n",
       "      <td>4</td>\n",
       "      <td>1</td>\n",
       "      <td>7</td>\n",
       "      <td>37</td>\n",
       "    </tr>\n",
       "  </tbody>\n",
       "</table>\n",
       "</div>"
      ],
      "text/plain": [
       "     Year  Week          HomeTeam          AwayTeam  HomeId  AwayId  \\\n",
       "98   2018     2          Stanford               USC       2       0   \n",
       "180  2018     3              Utah        Washington       8       3   \n",
       "235  2018     4               USC  Washington State       0       7   \n",
       "242  2018     4            Oregon          Stanford      10       2   \n",
       "245  2018     4        Washington     Arizona State       3       6   \n",
       "276  2018     4      Oregon State           Arizona       9       5   \n",
       "296  2018     5          Colorado              UCLA      11       1   \n",
       "311  2018     5        California            Oregon       4      10   \n",
       "335  2018     5  Washington State              Utah       7       8   \n",
       "349  2018     5     Arizona State      Oregon State       6       9   \n",
       "350  2018     5           Arizona               USC       5       0   \n",
       "366  2018     6              UCLA        Washington       1       3   \n",
       "369  2018     6          Stanford              Utah       2       8   \n",
       "374  2018     6          Colorado     Arizona State      11       6   \n",
       "403  2018     6      Oregon State  Washington State       9       7   \n",
       "404  2018     6           Arizona        California       5       4   \n",
       "413  2018     7              Utah           Arizona       8       5   \n",
       "419  2018     7            Oregon        Washington      10       3   \n",
       "426  2018     7               USC          Colorado       0      11   \n",
       "457  2018     7        California              UCLA       4       1   \n",
       "\n",
       "     HomeScore  AwayScore  \n",
       "98          17          3  \n",
       "180          7         21  \n",
       "235         39         36  \n",
       "242         31         38  \n",
       "245         27         20  \n",
       "276         14         35  \n",
       "296         38         16  \n",
       "311         24         42  \n",
       "335         28         24  \n",
       "349         52         24  \n",
       "350         20         24  \n",
       "366         24         31  \n",
       "369         21         40  \n",
       "374         28         21  \n",
       "403         37         56  \n",
       "404         24         17  \n",
       "413         42         10  \n",
       "419         30         27  \n",
       "426         31         20  \n",
       "457          7         37  "
      ]
     },
     "execution_count": 8,
     "metadata": {},
     "output_type": "execute_result"
    }
   ],
   "source": [
    "pac12games = (df_2018[\n",
    "    df_2018['HomeTeam'].apply(lambda x: x in pac12teams) &\n",
    "    df_2018['AwayTeam'].apply(lambda x: x in pac12teams)\n",
    "]\n",
    "             ).copy()\n",
    "\n",
    "pac12games['HomeId'] = pac12games['HomeTeam'].apply(lambda x: ref[x])\n",
    "pac12games['AwayId'] = pac12games['AwayTeam'].apply(lambda x: ref[x])\n",
    "\n",
    "print(len(pac12games))\n",
    "print(len(df_2018))\n",
    "\n",
    "pac12games.head(20)"
   ]
  },
  {
   "cell_type": "code",
   "execution_count": 9,
   "metadata": {},
   "outputs": [
    {
     "name": "stdout",
     "output_type": "stream",
     "text": [
      "     Offense  Defense  Score\n",
      "539       10        5     15\n",
      "828        3        8     10\n",
      "813        1        2     42\n",
      "762       10        6     31\n",
      "589        4        7     13\n"
     ]
    }
   ],
   "source": [
    "# this data frame needs to be manipulated slightly in order to fit\n",
    "# into what the model will expect\n",
    "\n",
    "df_in = pd.concat(\n",
    "    [pac12games[[\"HomeId\",\"AwayId\",\"HomeScore\"]].rename(columns = {\"HomeId\": \"Offense\",\n",
    "                                                           \"AwayId\": \"Defense\",\n",
    "                                                           \"HomeScore\":\"Score\"}),\n",
    "     pac12games[[\"AwayId\",\"HomeId\",\"AwayScore\"]].rename(columns = {\"AwayId\":\"Offense\",\n",
    "                                                           \"HomeId\":\"Defense\", \n",
    "                                                           \"AwayScore\":\"Score\"})\n",
    "    ]\n",
    ").copy()\n",
    "\n",
    "print(df_in.sample(5))\n"
   ]
  },
  {
   "cell_type": "code",
   "execution_count": 10,
   "metadata": {},
   "outputs": [
    {
     "data": {
      "text/html": [
       "<div>\n",
       "<style scoped>\n",
       "    .dataframe tbody tr th:only-of-type {\n",
       "        vertical-align: middle;\n",
       "    }\n",
       "\n",
       "    .dataframe tbody tr th {\n",
       "        vertical-align: top;\n",
       "    }\n",
       "\n",
       "    .dataframe thead th {\n",
       "        text-align: right;\n",
       "    }\n",
       "</style>\n",
       "<table border=\"1\" class=\"dataframe\">\n",
       "  <thead>\n",
       "    <tr style=\"text-align: right;\">\n",
       "      <th></th>\n",
       "      <th>Offense</th>\n",
       "      <th>Defense</th>\n",
       "      <th>Score</th>\n",
       "    </tr>\n",
       "  </thead>\n",
       "  <tbody>\n",
       "    <tr>\n",
       "      <td>695</td>\n",
       "      <td>4</td>\n",
       "      <td>0</td>\n",
       "      <td>15</td>\n",
       "    </tr>\n",
       "  </tbody>\n",
       "</table>\n",
       "</div>"
      ],
      "text/plain": [
       "     Offense  Defense  Score\n",
       "695        4        0     15"
      ]
     },
     "execution_count": 10,
     "metadata": {},
     "output_type": "execute_result"
    }
   ],
   "source": [
    "df_in.query('Offense == 4 & Defense == 0')"
   ]
  },
  {
   "cell_type": "code",
   "execution_count": 11,
   "metadata": {},
   "outputs": [],
   "source": [
    "offense_id = df_in['Offense'].values\n",
    "defense_id = df_in['Defense'].values\n",
    "scores = df_in['Score'].values"
   ]
  },
  {
   "cell_type": "code",
   "execution_count": 12,
   "metadata": {},
   "outputs": [],
   "source": [
    "with pm.Model() as model:\n",
    "    theta_0 = pm.Normal('theta_0',mu = 3, sigma = 0.1)\n",
    "    alpha = pm.Normal('alpha', mu = 0, sigma = 1)\n",
    "    OS = pm.Normal('OS', mu = 0, sigma = 1, shape = 12)\n",
    "    DS = pm.Normal('DS', mu = 0, sigma = 1, shape = 12)\n",
    "    s_max = pm.Normal('smax', mu = 70, sigma = 10)\n",
    "    sd = pm.HalfCauchy(\"sd\", beta = 2)"
   ]
  },
  {
   "cell_type": "code",
   "execution_count": 13,
   "metadata": {},
   "outputs": [],
   "source": [
    "with model:\n",
    "    os_scores = pm.Deterministic(\"os_scores\", OS[offense_id])\n",
    "    ds_scores = pm.Deterministic(\"ds_scores\", DS[defense_id])"
   ]
  },
  {
   "cell_type": "code",
   "execution_count": 14,
   "metadata": {},
   "outputs": [],
   "source": [
    "from pymc3.math import exp\n",
    "\n",
    "with model:\n",
    "    computed_score = pm.Deterministic(\"computed_score\",\n",
    "                                     theta_0 + (s_max - theta_0)/(1+exp(-(alpha+os_scores-ds_scores))))\n",
    "    "
   ]
  },
  {
   "cell_type": "code",
   "execution_count": 15,
   "metadata": {},
   "outputs": [],
   "source": [
    "with model:\n",
    "    score = pm.Normal('score', mu = computed_score, sd = sd, observed = scores)"
   ]
  },
  {
   "cell_type": "code",
   "execution_count": 16,
   "metadata": {},
   "outputs": [
    {
     "name": "stderr",
     "output_type": "stream",
     "text": [
      "Auto-assigning NUTS sampler...\n",
      "Initializing NUTS using jitter+adapt_diag...\n",
      "Multiprocess sampling (2 chains in 2 jobs)\n",
      "NUTS: [sd, smax, DS, OS, alpha, theta_0]\n",
      "Sampling 2 chains: 100%|██████████| 80000/80000 [04:56<00:00, 269.85draws/s]\n",
      "There were 7 divergences after tuning. Increase `target_accept` or reparameterize.\n",
      "The number of effective samples is smaller than 25% for some parameters.\n"
     ]
    }
   ],
   "source": [
    "with model:\n",
    "    trace = pm.sample(20000, tune = 20000)"
   ]
  },
  {
   "cell_type": "code",
   "execution_count": 17,
   "metadata": {},
   "outputs": [
    {
     "name": "stdout",
     "output_type": "stream",
     "text": [
      "(40000,)\n"
     ]
    },
    {
     "data": {
      "image/png": "[encoded data removed]",
      "text/plain": [
       "<Figure size 900x288 with 1 Axes>"
      ]
     },
     "metadata": {
      "needs_background": "light"
     },
     "output_type": "display_data"
    }
   ],
   "source": [
    "fig, ax = plt.subplots(figsize = (12.5,4))\n",
    "\n",
    "ax.hist(trace['alpha'],bins = 20)\n",
    "print(trace['alpha'].shape)\n",
    "plt.show()"
   ]
  },
  {
   "cell_type": "code",
   "execution_count": 18,
   "metadata": {},
   "outputs": [],
   "source": [
    "import numpy as np\n",
    "def score_model(theta_0, s_max, alpha, OS, DS):\n",
    "    return theta_0 + (s_max - theta_0)/(1+np.exp(-(alpha+OS-DS)))"
   ]
  },
  {
   "cell_type": "code",
   "execution_count": 19,
   "metadata": {},
   "outputs": [],
   "source": [
    "def sample_outcome(team1, team2):\n",
    "    id1 = ref[team1]\n",
    "    id2 = ref[team2]\n",
    "    \n",
    "    o1_sample = trace['OS'][:,id1][10000:]\n",
    "    o2_sample = trace['OS'][:,id2][10000:]\n",
    "    \n",
    "    d1_sample = trace['DS'][:,id1][10000:]\n",
    "    d2_sample = trace['DS'][:,id2][10000:]\n",
    "    \n",
    "    theta_0_sample = trace['theta_0'][10000:]\n",
    "    alpha_sample = trace['alpha'][10000:]\n",
    "    s_max_sample = trace['smax'][10000:]\n",
    "    \n",
    "    sample_scores_1 = score_model(theta_0_sample, s_max_sample, alpha_sample, o1_sample, d2_sample)\n",
    "    sample_scores_2 = score_model(theta_0_sample, s_max_sample, alpha_sample, o2_sample, d1_sample)\n",
    "    \n",
    "    fig, ax = plt.subplots(1,2,figsize = (12.5,4))\n",
    "\n",
    "    ax[0].hist(sample_scores_1,bins = 20, alpha = 0.5, label = team1)\n",
    "    ax[0].hist(sample_scores_2,bins = 20, alpha = 0.5, label = team2)\n",
    "    \n",
    "    actual_score_1 = df_in.query(f'Offense == {id1} & Defense == {id2}')['Score'].values\n",
    "    ax[0].axvline(actual_score_1, linestyle = '--', color = 'blue', label = team1)\n",
    "    \n",
    "    actual_score_2 = df_in.query(f'Offense == {id2} & Defense == {id1}')['Score'].values\n",
    "    ax[0].axvline(actual_score_2, linestyle = '--', color = 'k', label = team2)\n",
    "    \n",
    "    ax[0].legend()\n",
    "    \n",
    "    diff = sample_scores_1 - sample_scores_2\n",
    "    ax[1].hist(diff, bins = 20, alpha = 0.7, label = 'Score Difference')\n",
    "    \n",
    "    actual_score_diff = actual_score_1 - actual_score_2\n",
    "    ax[1].axvline(actual_score_diff, linestyle = '--', color = 'k')\n",
    "    ax[1].set_title('Score Difference')\n",
    "\n",
    "    plt.show()"
   ]
  },
  {
   "cell_type": "code",
   "execution_count": 20,
   "metadata": {},
   "outputs": [
    {
     "data": {
      "image/png": "[encoded data removed]",
      "text/plain": [
       "<Figure size 900x288 with 2 Axes>"
      ]
     },
     "metadata": {
      "needs_background": "light"
     },
     "output_type": "display_data"
    }
   ],
   "source": [
    "sample_outcome(\"Utah\", \"Oregon\")"
   ]
  },
  {
   "cell_type": "code",
   "execution_count": 21,
   "metadata": {},
   "outputs": [
    {
     "data": {
      "image/png": "[encoded data removed]",
      "text/plain": [
       "<Figure size 900x288 with 2 Axes>"
      ]
     },
     "metadata": {
      "needs_background": "light"
     },
     "output_type": "display_data"
    }
   ],
   "source": [
    "sample_outcome('California','Oregon State')"
   ]
  },
  {
   "cell_type": "code",
   "execution_count": 22,
   "metadata": {},
   "outputs": [
    {
     "data": {
      "image/png": "[encoded data removed]",
      "text/plain": [
       "<Figure size 900x288 with 2 Axes>"
      ]
     },
     "metadata": {
      "needs_background": "light"
     },
     "output_type": "display_data"
    }
   ],
   "source": [
    "sample_outcome('UCLA','Stanford')"
   ]
  },
  {
   "cell_type": "code",
   "execution_count": null,
   "metadata": {},
   "outputs": [],
   "source": []
  }
 ],
 "metadata": {
  "kernelspec": {
   "display_name": "Python 3",
   "language": "python",
   "name": "python3"
  },
  "language_info": {
   "codemirror_mode": {
    "name": "ipython",
    "version": 3
   },
   "file_extension": ".py",
   "mimetype": "text/x-python",
   "name": "python",
   "nbconvert_exporter": "python",
   "pygments_lexer": "ipython3",
   "version": "3.7.3"
  }
 },
 "nbformat": 4,
 "nbformat_minor": 4
}
